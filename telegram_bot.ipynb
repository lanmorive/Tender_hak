{
 "cells": [
  {
   "cell_type": "code",
   "execution_count": 1,
   "id": "e678a82d-0903-4109-bcf9-677c85933a67",
   "metadata": {},
   "outputs": [
    {
     "name": "stdout",
     "output_type": "stream",
     "text": [
      "Looking in indexes: https://artifactory.tcsbank.ru/artifactory/api/pypi/python-all/simple\n",
      "Requirement already satisfied: telebot in /home/mlcore/conda/lib/python3.10/site-packages (0.0.5)\n",
      "Requirement already satisfied: pyTelegramBotAPI in /home/mlcore/conda/lib/python3.10/site-packages (from telebot) (4.26.0)\n",
      "Requirement already satisfied: requests in /home/mlcore/conda/lib/python3.10/site-packages (from telebot) (2.32.3)\n",
      "Requirement already satisfied: charset_normalizer<4,>=2 in /home/mlcore/conda/lib/python3.10/site-packages (from requests->telebot) (3.4.1)\n",
      "Requirement already satisfied: idna<4,>=2.5 in /home/mlcore/conda/lib/python3.10/site-packages (from requests->telebot) (3.10)\n",
      "Requirement already satisfied: urllib3<3,>=1.21.1 in /home/mlcore/conda/lib/python3.10/site-packages (from requests->telebot) (2.3.0)\n",
      "Requirement already satisfied: certifi>=2017.4.17 in /home/mlcore/.local/lib/python3.10/site-packages (from requests->telebot) (2025.1.31)\n"
     ]
    }
   ],
   "source": [
    "!pip install telebot\n",
    "!pip install -qU openpyxl transformers accelerate peft sentencepiece langchain-community\n",
    "!pip install -qU docx2txt sentence-transformers chromadb langchain-huggingface llama-cpp-python torch"
   ]
  },
  {
   "cell_type": "code",
   "execution_count": null,
   "id": "8a3a79c7-2d5e-479b-ae58-4d33e1f55500",
   "metadata": {},
   "outputs": [
    {
     "name": "stderr",
     "output_type": "stream",
     "text": [
      "/workdir/beta/my_bot/../rag_system.py:193: LangChainDeprecationWarning: The class `HuggingFaceEmbeddings` was deprecated in LangChain 0.2.2 and will be removed in 1.0. An updated version of the class exists in the :class:`~langchain-huggingface package and should be used instead. To use it run `pip install -U :class:`~langchain-huggingface` and import as `from :class:`~langchain_huggingface import HuggingFaceEmbeddings``.\n",
      "  self.embeddings = HuggingFaceEmbeddings(\n"
     ]
    },
    {
     "name": "stdout",
     "output_type": "stream",
     "text": [
      "Error processing /workdir/beta/архивчик/excel/Уникальные_термины.xlsx: Usecols do not match columns, columns expected but not found: ['document_name', 'header', 'pictures', 'text'] (sheet: 0)\n"
     ]
    },
    {
     "name": "stderr",
     "output_type": "stream",
     "text": [
      "llama_init_from_model: n_ctx_per_seq (8192) < n_ctx_train (32768) -- the full capacity of the model will not be utilized\n"
     ]
    }
   ],
   "source": [
    "import sys \n",
    "sys.path.append('../')\n",
    "from rag_system import *\n",
    "import telebot\n",
    "import asyncio\n",
    "\n",
    "# Токен бота\n",
    "bot = telebot.TeleBot()\n",
    "\n",
    "# Инициализация RAG\n",
    "config = RAGConfig()\n",
    "rag = OptimizedRAG(config)\n",
    "rag.initialize()\n",
    "\n",
    "# /start\n",
    "@bot.message_handler(commands=['start'])\n",
    "def start(message):\n",
    "    bot.send_message(message.chat.id, \"Привет! Я ассистент по Порталу поставщиков. Задайте свой вопрос.\")\n",
    "\n",
    "# /help\n",
    "@bot.message_handler(commands=['help'])\n",
    "def help_(message):\n",
    "    bot.send_message(message.chat.id, \"/start — приветствие\\n/help — помощь\\nПросто отправьте ваш вопрос как текст.\")\n",
    "\n",
    "# Обработка текстов\n",
    "@bot.message_handler(content_types=['text'])\n",
    "def handle_text(message):\n",
    "    try:\n",
    "        user_input = message.text\n",
    "        bot.send_message(message.chat.id, \"🔎 Думаю над ответом...\")\n",
    "\n",
    "        response = rag.query(user_input)\n",
    "\n",
    "        # Telegram ограничение — разбиваем, если слишком длинный\n",
    "        if len(response) > 4096:\n",
    "            for i in range(0, len(response), 4096):\n",
    "                bot.send_message(message.chat.id, response[i:i+4096])\n",
    "        else:\n",
    "            bot.send_message(message.chat.id, response)\n",
    "    except Exception as e:\n",
    "        bot.send_message(message.chat.id, f\"⚠️ Ошибка: {str(e)}\")\n",
    "\n",
    "# Запуск\n",
    "try:\n",
    "    bot.polling(none_stop=True, interval=0)\n",
    "except Exception as e:\n",
    "    print(f\"Ошибка при запуске бота: {e}\")"
   ]
  },
  {
   "cell_type": "code",
   "execution_count": null,
   "id": "e11411fe-3afe-41f1-80db-2c9dec35d4d9",
   "metadata": {},
   "outputs": [],
   "source": []
  }
 ],
 "metadata": {
  "kernelspec": {
   "display_name": "Python 3 (ipykernel)",
   "language": "python",
   "name": "python3"
  },
  "language_info": {
   "codemirror_mode": {
    "name": "ipython",
    "version": 3
   },
   "file_extension": ".py",
   "mimetype": "text/x-python",
   "name": "python",
   "nbconvert_exporter": "python",
   "pygments_lexer": "ipython3",
   "version": "3.10.16"
  }
 },
 "nbformat": 4,
 "nbformat_minor": 5
}
